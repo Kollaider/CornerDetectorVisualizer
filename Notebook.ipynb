{
 "cells": [
  {
   "cell_type": "markdown",
   "source": [
    "## Model Meaningful statistics"
   ],
   "metadata": {
    "collapsed": false
   },
   "id": "31014860369a841d"
  },
  {
   "cell_type": "code",
   "outputs": [],
   "source": [
    "import os\n",
    "import pandas as pd\n",
    "import requests\n",
    "import matplotlib.pyplot as plt"
   ],
   "metadata": {
    "collapsed": true,
    "ExecuteTime": {
     "end_time": "2024-01-08T20:08:11.492386128Z",
     "start_time": "2024-01-08T20:08:11.447498703Z"
    }
   },
   "id": "initial_id",
   "execution_count": 21
  },
  {
   "cell_type": "markdown",
   "source": [
    "### Model PlotDrawer"
   ],
   "metadata": {
    "collapsed": false
   },
   "id": "15cf275e1751116e"
  },
  {
   "cell_type": "code",
   "outputs": [],
   "source": [
    "class PlotDrawer:\n",
    "    \"\"\"\n",
    "    A utility class for drawing and saving plots based on DataFrame columns.\n",
    "\n",
    "    Methods:\n",
    "    - draw_plots: Draw plots for comparing different columns in the DataFrame.\n",
    "    - save_plot: Save a Matplotlib figure to a specified folder with a given filename.\n",
    "    \"\"\"\n",
    "    @staticmethod\n",
    "    def draw_plots(df: pd.DataFrame) -> plt.Figure:\n",
    "        \"\"\"\n",
    "        Draw plots for comparing different columns in the DataFrame.\n",
    "\n",
    "        Parameters:\n",
    "        - df (pd.DataFrame): Input DataFrame with columns for plotting.\n",
    "\n",
    "        Returns:\n",
    "        plt.Figure: Matplotlib figure containing the drawn plot.\n",
    "        \"\"\"\n",
    "\n",
    "        fig, ax = plt.subplots(figsize=(10, 6))\n",
    "        ax.scatter(df[\"gt_corners\"], df[\"rb_corners\"])\n",
    "        ax.set_title(\"Ground Truth vs Model Corners\")\n",
    "        ax.set_xlabel(\"Ground Truth Corners\")\n",
    "        ax.set_ylabel(\"Model Corners\")\n",
    "        plt.show()\n",
    "\n",
    "        return fig\n",
    "\n",
    "    @staticmethod\n",
    "    def save_plot(figure: plt.Figure, save_folder: str, filename: str) -> str:\n",
    "        \"\"\"\n",
    "        Save a Matplotlib figure to a specified folder with a given filename.\n",
    "    \n",
    "        Parameters:\n",
    "        - figure (plt.Figure): Matplotlib figure to be saved.\n",
    "        - save_folder (str): Folder to save the plot.\n",
    "        - filename (str): Desired filename for the saved plot.\n",
    "    \n",
    "        Returns:\n",
    "        str: Path to the saved plot.\n",
    "        \"\"\"\n",
    "        os.makedirs(save_folder, exist_ok=True)\n",
    "        plot_path = os.path.join(save_folder, filename)\n",
    "        figure.savefig(plot_path)\n",
    "        return plot_path"
   ],
   "metadata": {
    "collapsed": false,
    "ExecuteTime": {
     "end_time": "2024-01-08T20:12:34.944490990Z",
     "start_time": "2024-01-08T20:12:34.898855326Z"
    }
   },
   "id": "380f307f73ca859c",
   "execution_count": 26
  },
  {
   "cell_type": "markdown",
   "source": [
    "### Get pandas data"
   ],
   "metadata": {
    "collapsed": false
   },
   "id": "db6edc7fcc4b768b"
  },
  {
   "cell_type": "code",
   "outputs": [],
   "source": [
    "url = \"https://ai-process-sandy.s3.eu-west-1.amazonaws.com/purge/deviation.json\"\n",
    "response = requests.get(url)"
   ],
   "metadata": {
    "collapsed": false,
    "ExecuteTime": {
     "end_time": "2024-01-08T20:12:37.066263680Z",
     "start_time": "2024-01-08T20:12:36.154986829Z"
    }
   },
   "id": "36087db747d0e0a3",
   "execution_count": 27
  },
  {
   "cell_type": "code",
   "outputs": [],
   "source": [
    "with open(\"deviation.json\", \"wb\") as f:\n",
    "    f.write(response.content)"
   ],
   "metadata": {
    "collapsed": false,
    "ExecuteTime": {
     "end_time": "2024-01-08T20:12:37.081686083Z",
     "start_time": "2024-01-08T20:12:37.070204828Z"
    }
   },
   "id": "93910e4ccb522fa9",
   "execution_count": 28
  },
  {
   "cell_type": "code",
   "outputs": [],
   "source": [
    "df = pd.read_json(\"deviation.json\")"
   ],
   "metadata": {
    "collapsed": false,
    "ExecuteTime": {
     "end_time": "2024-01-08T20:12:37.109794536Z",
     "start_time": "2024-01-08T20:12:37.075124481Z"
    }
   },
   "id": "3473cae716ca3bf7",
   "execution_count": 29
  },
  {
   "cell_type": "markdown",
   "source": [
    "#### Visualize statistic"
   ],
   "metadata": {
    "collapsed": false
   },
   "id": "2fae1a7a452e527b"
  },
  {
   "cell_type": "code",
   "outputs": [],
   "source": [
    "drawer = PlotDrawer()"
   ],
   "metadata": {
    "collapsed": false,
    "ExecuteTime": {
     "end_time": "2024-01-08T20:12:41.719618305Z",
     "start_time": "2024-01-08T20:12:41.708649915Z"
    }
   },
   "id": "f161394db5c68987",
   "execution_count": 30
  },
  {
   "cell_type": "code",
   "outputs": [
    {
     "data": {
      "text/plain": "<Figure size 1000x600 with 1 Axes>",
      "image/png": "[encoded data removed]"
     },
     "metadata": {},
     "output_type": "display_data"
    }
   ],
   "source": [
    "figure = drawer.draw_plots(df)"
   ],
   "metadata": {
    "collapsed": false,
    "ExecuteTime": {
     "end_time": "2024-01-08T20:12:42.787269597Z",
     "start_time": "2024-01-08T20:12:42.621400810Z"
    }
   },
   "id": "c1da1ea21ed16471",
   "execution_count": 31
  },
  {
   "cell_type": "code",
   "outputs": [
    {
     "data": {
      "text/plain": "'plots/ground_truth_vs_model.png'"
     },
     "execution_count": 32,
     "metadata": {},
     "output_type": "execute_result"
    }
   ],
   "source": [
    "drawer.save_plot(figure, \"plots\", \"ground_truth_vs_model.png\")"
   ],
   "metadata": {
    "collapsed": false,
    "ExecuteTime": {
     "end_time": "2024-01-08T20:12:44.932433257Z",
     "start_time": "2024-01-08T20:12:44.853422331Z"
    }
   },
   "id": "d8d4c5cfa02ff439",
   "execution_count": 32
  }
 ],
 "metadata": {
  "kernelspec": {
   "display_name": "Python 3",
   "language": "python",
   "name": "python3"
  },
  "language_info": {
   "codemirror_mode": {
    "name": "ipython",
    "version": 2
   },
   "file_extension": ".py",
   "mimetype": "text/x-python",
   "name": "python",
   "nbconvert_exporter": "python",
   "pygments_lexer": "ipython2",
   "version": "2.7.6"
  }
 },
 "nbformat": 4,
 "nbformat_minor": 5
}
